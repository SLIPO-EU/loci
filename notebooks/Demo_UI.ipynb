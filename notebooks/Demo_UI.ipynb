{
 "cells": [
  {
   "cell_type": "markdown",
   "metadata": {},
   "source": [
    "# LOCI Demo UI"
   ]
  },
  {
   "cell_type": "code",
   "execution_count": null,
   "metadata": {},
   "outputs": [],
   "source": [
    "from __future__ import print_function\n",
    "from ipywidgets import interact, interactive, fixed, interact_manual\n",
    "import ipywidgets as widgets\n",
    "from IPython.display import display\n",
    "\n",
    "import warnings\n",
    "warnings.filterwarnings('ignore')\n",
    "\n",
    "import sys\n",
    "sys.path.append('..')\n",
    "\n",
    "%load_ext autoreload\n",
    "%autoreload 2\n",
    "\n",
    "import pandas as pd\n",
    "import pyLDAvis\n",
    "\n",
    "import loci as lc\n",
    "from loci import io\n",
    "from loci import analytics\n",
    "from loci import index\n",
    "from loci import clustering\n",
    "from loci import topics\n",
    "from loci import plots\n",
    "\n",
    "widgets.interact_manual.opts['manual_name'] = 'Execute'"
   ]
  },
  {
   "cell_type": "code",
   "execution_count": null,
   "metadata": {},
   "outputs": [],
   "source": [
    "w_loc_filter = ''\n",
    "w_osmwrangle = ''\n",
    "w_clustering = ''\n",
    "w_cluster_shapes = ''"
   ]
  },
  {
   "cell_type": "markdown",
   "metadata": {},
   "source": [
    "## Load POIs from a remote file produced by OSMWrangle"
   ]
  },
  {
   "cell_type": "markdown",
   "metadata": {},
   "source": [
    "### Define the area boundary"
   ]
  },
  {
   "cell_type": "code",
   "execution_count": null,
   "metadata": {},
   "outputs": [],
   "source": [
    "def get_bound(location, buffer_dist):\n",
    "    bound = lc.io.retrieve_osm_loc(location, buffer_dist)\n",
    "    display(lc.plots.map_geometry(bound))\n",
    "    return bound\n",
    "\n",
    "w_loc_filter = interactive(get_bound,\n",
    "                {'manual':True, 'manual_name':'Execute'},\n",
    "                location='Athens, Greece',\n",
    "                buffer_dist=(0,50000,100))\n",
    "display(w_loc_filter)"
   ]
  },
  {
   "cell_type": "markdown",
   "metadata": {},
   "source": [
    "### Load and filter the file"
   ]
  },
  {
   "cell_type": "code",
   "execution_count": null,
   "metadata": {},
   "outputs": [],
   "source": [
    "def import_osmwrangle(file, target_crs):\n",
    "    bound = w_loc_filter.result\n",
    "    pois = lc.io.import_osmwrangle(file, bound=bound, target_crs=target_crs)\n",
    "    display(pois.head())\n",
    "    return pois\n",
    "\n",
    "w_osmwrangle = interactive(import_osmwrangle,\n",
    "                {'manual':True, 'manual_name':'Execute'},\n",
    "                file='http://download.slipo.eu/results/osm-to-csv/europe/europe_greece-pois.osm.csv.zip',\n",
    "                target_crs='EPSG:2100')\n",
    "display(w_osmwrangle)"
   ]
  },
  {
   "cell_type": "markdown",
   "metadata": {},
   "source": [
    "## Show a sample on the map"
   ]
  },
  {
   "cell_type": "code",
   "execution_count": null,
   "metadata": {},
   "outputs": [],
   "source": [
    "@interact_manual(sample_size=(10,1000,10), show_bbox=True)\n",
    "def sample_preview(sample_size, show_bbox):\n",
    "    pois = w_osmwrangle.result\n",
    "    display(lc.plots.map_points(pois.sample(sample_size), show_bbox=show_bbox))"
   ]
  },
  {
   "cell_type": "markdown",
   "metadata": {},
   "source": [
    "## Plot the frequency of the POI keywords"
   ]
  },
  {
   "cell_type": "code",
   "execution_count": null,
   "metadata": {},
   "outputs": [],
   "source": [
    "@interact_manual()\n",
    "def kwds_freq():\n",
    "    pois = w_osmwrangle.result\n",
    "    kf = lc.analytics.kwds_freq(pois)\n",
    "    lc.plots.barchart(kf, plot_title='Top Keywords', x_axis_label='Keywords', y_axis_label='Frequency')"
   ]
  },
  {
   "cell_type": "markdown",
   "metadata": {},
   "source": [
    "## Generate a word cloud from the POI keywords"
   ]
  },
  {
   "cell_type": "code",
   "execution_count": null,
   "metadata": {},
   "outputs": [],
   "source": [
    "@interact_manual()\n",
    "def wordcloud():\n",
    "    pois = w_osmwrangle.result\n",
    "    lc.plots.plot_wordcloud(pois)"
   ]
  },
  {
   "cell_type": "markdown",
   "metadata": {},
   "source": [
    "## Select a specific type of POIs and generate a heat map"
   ]
  },
  {
   "cell_type": "code",
   "execution_count": null,
   "metadata": {},
   "outputs": [],
   "source": [
    "@interact_manual(kwd='shop', radius=(5,15,1))\n",
    "def heatmap(kwd, radius):\n",
    "    pois = w_osmwrangle.result\n",
    "    if kwd is not None and kwd != '':\n",
    "        pois_filtered = lc.analytics.filter_by_kwd(pois, kwd)\n",
    "    else:\n",
    "        pois_filtered = pois\n",
    "    display(lc.plots.heatmap(pois_filtered, radius=radius))"
   ]
  },
  {
   "cell_type": "markdown",
   "metadata": {},
   "source": [
    "## Plot a grid"
   ]
  },
  {
   "cell_type": "code",
   "execution_count": null,
   "metadata": {},
   "outputs": [],
   "source": [
    "@interact_manual(ratio=(0.02,0.1,0.01))\n",
    "def grid(ratio):\n",
    "    pois = w_osmwrangle.result\n",
    "    g, num_columns, num_rows = lc.index.grid(pois, cell_size_ratio=ratio)\n",
    "    display(lc.plots.map_choropleth(areas=g, id_field='cell_id', value_field='score'))"
   ]
  },
  {
   "cell_type": "markdown",
   "metadata": {},
   "source": [
    "## Compute clusters"
   ]
  },
  {
   "cell_type": "code",
   "execution_count": null,
   "metadata": {},
   "outputs": [],
   "source": [
    "def clustering(alg, minPts, eps):\n",
    "    pois = w_osmwrangle.result\n",
    "    minPts = int(minPts)\n",
    "    eps = float(eps)\n",
    "    pois_in_clusters, eps_per_cluster = lc.clustering.compute_clusters(pois,\n",
    "                                                                       alg=alg,\n",
    "                                                                       min_pts=minPts,\n",
    "                                                                       eps=eps,\n",
    "                                                                       n_jobs=-1)\n",
    "    return [pois_in_clusters, eps_per_cluster]\n",
    "\n",
    "w_clustering = interactive(clustering,\n",
    "                {'manual':True, 'manual_name':'Execute'},\n",
    "                alg=['dbscan', 'hdbscan'],\n",
    "                minPts='15',\n",
    "                eps='100')\n",
    "display(w_clustering)"
   ]
  },
  {
   "cell_type": "markdown",
   "metadata": {},
   "source": [
    "## Show clusters on the map"
   ]
  },
  {
   "cell_type": "code",
   "execution_count": null,
   "metadata": {},
   "outputs": [],
   "source": [
    "def cluster_shapes(type):\n",
    "    pois_in_clusters = w_clustering.result[0]\n",
    "    eps_per_cluster = w_clustering.result[1]\n",
    "    cluster_borders = lc.clustering.cluster_shapes(pois_in_clusters, type, eps_per_cluster)\n",
    "    display(plots.map_choropleth(cluster_borders, id_field='cluster_id', value_field='size'))\n",
    "    return cluster_borders\n",
    "\n",
    "w_cluster_shapes = interactive(cluster_shapes,\n",
    "                {'manual':True, 'manual_name':'Execute'},\n",
    "                type=[1,2,3])\n",
    "display(w_cluster_shapes)"
   ]
  },
  {
   "cell_type": "markdown",
   "metadata": {},
   "source": [
    "## Show the POIs of a specific cluster"
   ]
  },
  {
   "cell_type": "code",
   "execution_count": null,
   "metadata": {},
   "outputs": [],
   "source": [
    "@interact_manual(cluster_id='0')\n",
    "def show_pois_in_cluster(cluster_id):\n",
    "    pois_in_clusters = w_clustering.result[0]\n",
    "    selected_cluster = int(cluster_id)\n",
    "    selected_pois = pois_in_clusters.loc[pois_in_clusters['cluster_id'] == selected_cluster]\n",
    "    display(plots.map_points(selected_pois))"
   ]
  },
  {
   "cell_type": "markdown",
   "metadata": {},
   "source": [
    "## Show OSM buildings and streets in a specific cluster"
   ]
  },
  {
   "cell_type": "code",
   "execution_count": null,
   "metadata": {},
   "outputs": [],
   "source": [
    "@interact_manual(cluster_id='0')\n",
    "def show_osm_features_in_cluster(cluster_id):\n",
    "    pois_in_clusters = w_clustering.result[0]\n",
    "    cluster_borders = w_cluster_shapes.result\n",
    "    selected_cluster = int(cluster_id)\n",
    "    selected_cluster = cluster_borders.loc[cluster_borders['cluster_id'] == selected_cluster]\n",
    "    display(plots.map_cluster_contents_osm(selected_cluster))"
   ]
  },
  {
   "cell_type": "markdown",
   "metadata": {},
   "source": [
    "## Compute AOIs for different POI types and compare them on the map"
   ]
  },
  {
   "cell_type": "code",
   "execution_count": null,
   "metadata": {},
   "outputs": [],
   "source": [
    "@interact_manual(type_a='restaurant', type_b='tourism', alg=['dbscan', 'hdbscan'], min_pts='10', eps='100')\n",
    "def cluster_compare(type_a, type_b, alg, min_pts, eps):\n",
    "    pois = w_osmwrangle.result\n",
    "    min_pts=int(min_pts)\n",
    "    eps=float(eps)\n",
    "    \n",
    "    pois_a = lc.analytics.filter_by_kwd(pois, kwd_filter=type_a)\n",
    "    pois_b = lc.analytics.filter_by_kwd(pois, kwd_filter=type_b)\n",
    "\n",
    "    aois_a, eps_a = lc.clustering.compute_clusters(pois_a, alg=alg, min_pts=min_pts, eps=eps, n_jobs=-1)\n",
    "    aois_b, eps_b = lc.clustering.compute_clusters(pois_b, alg=alg, min_pts=min_pts, eps=eps, n_jobs=-1)\n",
    "\n",
    "    aois_a = lc.clustering.cluster_shapes(aois_a, 2, eps_a)\n",
    "    aois_b = lc.clustering.cluster_shapes(aois_b, 2, eps_b)\n",
    "    \n",
    "    display(lc.plots.map_cluster_diff(aois_a, aois_b))"
   ]
  },
  {
   "cell_type": "markdown",
   "metadata": {},
   "source": [
    "## Extract topics from the clusters' keywords"
   ]
  },
  {
   "cell_type": "code",
   "execution_count": null,
   "metadata": {},
   "outputs": [],
   "source": [
    "def extract_topics(num_topics):\n",
    "    pois_in_clusters = w_clustering.result[0]\n",
    "    cluster_topics, topic_keywords, visualized_topics = lc.topics.topic_modeling(pois_in_clusters,\n",
    "                                                                                 num_of_topics=num_topics,\n",
    "                                                                                 kwds_per_topic=10)\n",
    "    display(topic_keywords.head(num_topics))\n",
    "    cluster_borders = w_cluster_shapes.result\n",
    "    cluster_borders_topics = pd.merge(cluster_borders,\n",
    "                                      cluster_topics,\n",
    "                                      left_on='cluster_id',\n",
    "                                      right_index=True,\n",
    "                                      how='inner')\n",
    "    return [cluster_topics, topic_keywords, visualized_topics, cluster_borders_topics]\n",
    "\n",
    "\n",
    "w_topics = interactive(extract_topics,\n",
    "                {'manual':True, 'manual_name':'Execute'},\n",
    "                num_topics=(2,10,1))\n",
    "display(w_topics)"
   ]
  },
  {
   "cell_type": "markdown",
   "metadata": {},
   "source": [
    "## Display clusters with topics"
   ]
  },
  {
   "cell_type": "code",
   "execution_count": null,
   "metadata": {},
   "outputs": [],
   "source": [
    "@interact_manual(viz_type=['dominant', 'single', 'rgb'], topic_id='')\n",
    "def vis_topics(viz_type, topic_id):\n",
    "    cluster_borders_topics = w_topics.result[3]\n",
    "    if viz_type == 'single':\n",
    "        topic_id = 'Topic' + topic_id\n",
    "        display(lc.plots.map_clusters_with_topics(cluster_borders_topics, viz_type='single', single_topic=topic_id))\n",
    "    elif viz_type == 'rgb':\n",
    "        display(lc.plots.map_clusters_with_topics(cluster_borders_topics, viz_type='rgb', red='Topic0',\n",
    "                                                  green='Topic1', blue='Topic2'))\n",
    "    else:\n",
    "        display(lc.plots.map_clusters_with_topics(cluster_borders_topics, viz_type='dominant'))"
   ]
  }
 ],
 "metadata": {
  "kernelspec": {
   "display_name": "Python 3",
   "language": "python",
   "name": "python3"
  },
  "language_info": {
   "codemirror_mode": {
    "name": "ipython",
    "version": 3
   },
   "file_extension": ".py",
   "mimetype": "text/x-python",
   "name": "python",
   "nbconvert_exporter": "python",
   "pygments_lexer": "ipython3",
   "version": "3.6.7"
  }
 },
 "nbformat": 4,
 "nbformat_minor": 2
}
