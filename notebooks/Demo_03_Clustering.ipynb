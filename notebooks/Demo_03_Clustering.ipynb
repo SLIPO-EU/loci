{
 "cells": [
  {
   "cell_type": "markdown",
   "metadata": {},
   "source": [
    "# Demo 3: POI Clustering"
   ]
  },
  {
   "cell_type": "code",
   "execution_count": null,
   "metadata": {},
   "outputs": [],
   "source": [
    "import warnings\n",
    "warnings.filterwarnings('ignore')\n",
    "\n",
    "import sys\n",
    "sys.path.append('..')\n",
    "\n",
    "%load_ext autoreload\n",
    "%autoreload 2\n",
    "\n",
    "import loci as lc\n",
    "from loci import io\n",
    "from loci import clustering\n",
    "from loci import plots"
   ]
  },
  {
   "cell_type": "markdown",
   "metadata": {},
   "source": [
    "## Create a POI GeoDataFrame from a remote CSV file produced by OSMWrangle"
   ]
  },
  {
   "cell_type": "code",
   "execution_count": null,
   "metadata": {},
   "outputs": [],
   "source": [
    "bound = lc.io.retrieve_osm_loc('Athens, Greece', buffer_dist=10000)\n",
    "remote_file = 'http://download.slipo.eu/results/osm-to-csv/europe/europe_greece-pois.osm.csv.zip'\n",
    "pois = lc.io.import_osmwrangle(remote_file, bound=bound, target_crs='EPSG:2100')\n",
    "pois.head()"
   ]
  },
  {
   "cell_type": "markdown",
   "metadata": {},
   "source": [
    "## Compute clusters"
   ]
  },
  {
   "cell_type": "code",
   "execution_count": null,
   "metadata": {},
   "outputs": [],
   "source": [
    "# use DBSCAN\n",
    "alg = 'dbscan'\n",
    "min_pts = 15\n",
    "eps = 100\n",
    "\n",
    "# use HDBSCAN\n",
    "# alg = 'hdbscan'\n",
    "# min_pts = 15\n",
    "# eps = None\n",
    "\n",
    "pois_in_clusters, eps_per_cluster = lc.clustering.compute_clusters(pois, alg=alg, min_pts=min_pts, eps=eps, n_jobs=-1)"
   ]
  },
  {
   "cell_type": "markdown",
   "metadata": {},
   "source": [
    "## Show the POIs of a specific cluster"
   ]
  },
  {
   "cell_type": "code",
   "execution_count": null,
   "metadata": {},
   "outputs": [],
   "source": [
    "selected_cluster = 2\n",
    "selected_pois = pois_in_clusters.loc[pois_in_clusters['cluster_id'] == selected_cluster]\n",
    "plots.map_points(selected_pois)"
   ]
  },
  {
   "cell_type": "markdown",
   "metadata": {},
   "source": [
    "## Compute cluster shapes and show clusters on the map"
   ]
  },
  {
   "cell_type": "code",
   "execution_count": null,
   "metadata": {},
   "outputs": [],
   "source": [
    "cluster_borders = lc.clustering.cluster_shapes(pois_in_clusters, 1, eps_per_cluster)\n",
    "plots.map_choropleth(cluster_borders, id_field='cluster_id', value_field='size')"
   ]
  },
  {
   "cell_type": "code",
   "execution_count": null,
   "metadata": {},
   "outputs": [],
   "source": [
    "cluster_borders = lc.clustering.cluster_shapes(pois_in_clusters, 2, eps_per_cluster)\n",
    "plots.map_choropleth(cluster_borders, id_field='cluster_id', value_field='size')"
   ]
  },
  {
   "cell_type": "code",
   "execution_count": null,
   "metadata": {},
   "outputs": [],
   "source": [
    "cluster_borders = lc.clustering.cluster_shapes(pois_in_clusters, 3, eps_per_cluster)\n",
    "plots.map_choropleth(cluster_borders, id_field='cluster_id', value_field='size')"
   ]
  },
  {
   "cell_type": "markdown",
   "metadata": {},
   "source": [
    "## Show buildings and streets in a specific cluster"
   ]
  },
  {
   "cell_type": "code",
   "execution_count": null,
   "metadata": {},
   "outputs": [],
   "source": [
    "selected_cluster = cluster_borders.loc[cluster_borders['cluster_id'] == selected_cluster]\n",
    "m = plots.map_cluster_contents_osm(selected_cluster)\n",
    "m"
   ]
  },
  {
   "cell_type": "markdown",
   "metadata": {},
   "source": [
    "## Compute AOIs for 'tourism' and 'restaurant' and compare them on the map"
   ]
  },
  {
   "cell_type": "code",
   "execution_count": null,
   "metadata": {},
   "outputs": [],
   "source": [
    "pois_restaurant = lc.analytics.filter_by_kwd(pois, kwd_filter='restaurant')\n",
    "pois_tourism = lc.analytics.filter_by_kwd(pois, kwd_filter='tourism')\n",
    "\n",
    "alg = 'dbscan'\n",
    "min_pts = 10\n",
    "eps = 100\n",
    "\n",
    "aois_restaurant, eps_rest = lc.clustering.compute_clusters(pois_restaurant, alg=alg, min_pts=min_pts, eps=eps, n_jobs=-1)\n",
    "aois_tourism, eps_tour = lc.clustering.compute_clusters(pois_tourism, alg=alg, min_pts=min_pts, eps=eps, n_jobs=-1)\n",
    "\n",
    "aois_restaurant = lc.clustering.cluster_shapes(aois_restaurant, 2, eps_rest)\n",
    "aois_tourism = lc.clustering.cluster_shapes(aois_tourism, 2, eps_rest)"
   ]
  },
  {
   "cell_type": "code",
   "execution_count": null,
   "metadata": {},
   "outputs": [],
   "source": [
    "plots.map_choropleth(aois_restaurant, id_field='cluster_id', value_field='size')"
   ]
  },
  {
   "cell_type": "code",
   "execution_count": null,
   "metadata": {},
   "outputs": [],
   "source": [
    "plots.map_choropleth(aois_tourism, id_field='cluster_id', value_field='size')"
   ]
  },
  {
   "cell_type": "code",
   "execution_count": null,
   "metadata": {},
   "outputs": [],
   "source": [
    "m = lc.plots.map_cluster_diff(aois_restaurant, aois_tourism)\n",
    "m"
   ]
  }
 ],
 "metadata": {
  "kernelspec": {
   "display_name": "Python 3",
   "language": "python",
   "name": "python3"
  },
  "language_info": {
   "codemirror_mode": {
    "name": "ipython",
    "version": 3
   },
   "file_extension": ".py",
   "mimetype": "text/x-python",
   "name": "python",
   "nbconvert_exporter": "python",
   "pygments_lexer": "ipython3",
   "version": "3.6.7"
  }
 },
 "nbformat": 4,
 "nbformat_minor": 2
}
