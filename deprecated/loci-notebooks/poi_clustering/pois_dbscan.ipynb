{
 "cells": [
  {
   "cell_type": "markdown",
   "metadata": {},
   "source": [
    "# Cluster POIs using DBSCAN"
   ]
  },
  {
   "cell_type": "code",
   "execution_count": 1,
   "metadata": {},
   "outputs": [
    {
     "name": "stderr",
     "output_type": "stream",
     "text": [
      "/home/user/miniconda3/lib/python3.6/site-packages/pysal/__init__.py:65: VisibleDeprecationWarning: PySAL's API will be changed on 2018-12-31. The last release made with this API is version 1.14.4. A preview of the next API version is provided in the `pysal` 2.0 prelease candidate. The API changes and a guide on how to change imports is provided at https://pysal.org/about\n",
      "  ), VisibleDeprecationWarning)\n"
     ]
    }
   ],
   "source": [
    "import pandas as pd\n",
    "from geopandas import GeoDataFrame\n",
    "import numpy as np\n",
    "from sklearn.cluster import DBSCAN\n",
    "from sklearn import metrics\n",
    "import matplotlib.pyplot as plt\n",
    "from time import time\n",
    "import pysal\n",
    "from shapely.geometry import Point\n",
    "import shapely as shp\n",
    "import folium"
   ]
  },
  {
   "cell_type": "code",
   "execution_count": 2,
   "metadata": {},
   "outputs": [],
   "source": [
    "input_dir = '../data/input/'\n",
    "output_dir = '../data/output/'"
   ]
  },
  {
   "cell_type": "markdown",
   "metadata": {},
   "source": [
    "## Read input file"
   ]
  },
  {
   "cell_type": "code",
   "execution_count": 3,
   "metadata": {},
   "outputs": [
    {
     "name": "stdout",
     "output_type": "stream",
     "text": [
      "POIs loaded: 85187\n"
     ]
    },
    {
     "data": {
      "text/html": [
       "<div>\n",
       "<style scoped>\n",
       "    .dataframe tbody tr th:only-of-type {\n",
       "        vertical-align: middle;\n",
       "    }\n",
       "\n",
       "    .dataframe tbody tr th {\n",
       "        vertical-align: top;\n",
       "    }\n",
       "\n",
       "    .dataframe thead th {\n",
       "        text-align: right;\n",
       "    }\n",
       "</style>\n",
       "<table border=\"1\" class=\"dataframe\">\n",
       "  <thead>\n",
       "    <tr style=\"text-align: right;\">\n",
       "      <th></th>\n",
       "      <th>poi_id</th>\n",
       "      <th>poi_name</th>\n",
       "      <th>poi_kwds</th>\n",
       "      <th>geometry</th>\n",
       "    </tr>\n",
       "  </thead>\n",
       "  <tbody>\n",
       "    <tr>\n",
       "      <th>0</th>\n",
       "      <td>N10287073</td>\n",
       "      <td>Wembley Central</td>\n",
       "      <td>[transport, station]</td>\n",
       "      <td>POINT (518206.2277696228 185095.8309513291)</td>\n",
       "    </tr>\n",
       "    <tr>\n",
       "      <th>1</th>\n",
       "      <td>N10370938</td>\n",
       "      <td>Hadley Wood</td>\n",
       "      <td>[transport, station]</td>\n",
       "      <td>POINT (526215.3641507154 198221.9922744819)</td>\n",
       "    </tr>\n",
       "    <tr>\n",
       "      <th>2</th>\n",
       "      <td>N10371887</td>\n",
       "      <td>Alexandra Palace</td>\n",
       "      <td>[transport, station]</td>\n",
       "      <td>POINT (530280.7522176408 190456.0047157237)</td>\n",
       "    </tr>\n",
       "    <tr>\n",
       "      <th>3</th>\n",
       "      <td>N10606316</td>\n",
       "      <td>St John Street / Goswell Road</td>\n",
       "      <td>[transport, busstop]</td>\n",
       "      <td>POINT (531464.3598053379 183078.4395275304)</td>\n",
       "    </tr>\n",
       "    <tr>\n",
       "      <th>4</th>\n",
       "      <td>N10713594</td>\n",
       "      <td>Carshalton Beeches</td>\n",
       "      <td>[transport, station]</td>\n",
       "      <td>POINT (527562.7459662389 163605.7092331609)</td>\n",
       "    </tr>\n",
       "  </tbody>\n",
       "</table>\n",
       "</div>"
      ],
      "text/plain": [
       "      poi_id                       poi_name              poi_kwds  \\\n",
       "0  N10287073                Wembley Central  [transport, station]   \n",
       "1  N10370938                    Hadley Wood  [transport, station]   \n",
       "2  N10371887               Alexandra Palace  [transport, station]   \n",
       "3  N10606316  St John Street / Goswell Road  [transport, busstop]   \n",
       "4  N10713594             Carshalton Beeches  [transport, station]   \n",
       "\n",
       "                                      geometry  \n",
       "0  POINT (518206.2277696228 185095.8309513291)  \n",
       "1  POINT (526215.3641507154 198221.9922744819)  \n",
       "2  POINT (530280.7522176408 190456.0047157237)  \n",
       "3  POINT (531464.3598053379 183078.4395275304)  \n",
       "4  POINT (527562.7459662389 163605.7092331609)  "
      ]
     },
     "execution_count": 3,
     "metadata": {},
     "output_type": "execute_result"
    }
   ],
   "source": [
    "pois = pd.read_pickle(input_dir + 'london_pois_gdf.pkl')\n",
    "print(\"POIs loaded: %s\" % (len(pois.index)))\n",
    "pois.head()"
   ]
  },
  {
   "cell_type": "markdown",
   "metadata": {},
   "source": [
    "## Optionally filter POIs by keywords"
   ]
  },
  {
   "cell_type": "code",
   "execution_count": 4,
   "metadata": {},
   "outputs": [],
   "source": [
    "kwd_filter = set(['food'])\n",
    "#kwd_filter = set([])"
   ]
  },
  {
   "cell_type": "code",
   "execution_count": 5,
   "metadata": {},
   "outputs": [
    {
     "name": "stdout",
     "output_type": "stream",
     "text": [
      "POIs filtered: 16535\n"
     ]
    },
    {
     "data": {
      "text/html": [
       "<div>\n",
       "<style scoped>\n",
       "    .dataframe tbody tr th:only-of-type {\n",
       "        vertical-align: middle;\n",
       "    }\n",
       "\n",
       "    .dataframe tbody tr th {\n",
       "        vertical-align: top;\n",
       "    }\n",
       "\n",
       "    .dataframe thead th {\n",
       "        text-align: right;\n",
       "    }\n",
       "</style>\n",
       "<table border=\"1\" class=\"dataframe\">\n",
       "  <thead>\n",
       "    <tr style=\"text-align: right;\">\n",
       "      <th></th>\n",
       "      <th>poi_id</th>\n",
       "      <th>poi_name</th>\n",
       "      <th>poi_kwds</th>\n",
       "      <th>geometry</th>\n",
       "    </tr>\n",
       "  </thead>\n",
       "  <tbody>\n",
       "    <tr>\n",
       "      <th>19</th>\n",
       "      <td>N12242503</td>\n",
       "      <td>Railway Bell</td>\n",
       "      <td>[food, pub]</td>\n",
       "      <td>POINT (540576.8896114922 190077.5369581918)</td>\n",
       "    </tr>\n",
       "    <tr>\n",
       "      <th>20</th>\n",
       "      <td>N12243302</td>\n",
       "      <td>The George</td>\n",
       "      <td>[food, pub]</td>\n",
       "      <td>POINT (540644.106952635 188295.6113788032)</td>\n",
       "    </tr>\n",
       "    <tr>\n",
       "      <th>21</th>\n",
       "      <td>N12245485</td>\n",
       "      <td>The Eagle, Toby Carvery</td>\n",
       "      <td>[food, pub]</td>\n",
       "      <td>POINT (540093.8806968946 189074.1681362605)</td>\n",
       "    </tr>\n",
       "    <tr>\n",
       "      <th>40</th>\n",
       "      <td>N451152</td>\n",
       "      <td>The Dignity</td>\n",
       "      <td>[food, pub]</td>\n",
       "      <td>POINT (525136.1065181275 190654.6704870929)</td>\n",
       "    </tr>\n",
       "    <tr>\n",
       "      <th>41</th>\n",
       "      <td>N451153</td>\n",
       "      <td>Central Restaurant</td>\n",
       "      <td>[food, restaurant]</td>\n",
       "      <td>POINT (525209.3537744763 190788.9183128849)</td>\n",
       "    </tr>\n",
       "  </tbody>\n",
       "</table>\n",
       "</div>"
      ],
      "text/plain": [
       "       poi_id                 poi_name            poi_kwds  \\\n",
       "19  N12242503             Railway Bell         [food, pub]   \n",
       "20  N12243302               The George         [food, pub]   \n",
       "21  N12245485  The Eagle, Toby Carvery         [food, pub]   \n",
       "40    N451152              The Dignity         [food, pub]   \n",
       "41    N451153       Central Restaurant  [food, restaurant]   \n",
       "\n",
       "                                       geometry  \n",
       "19  POINT (540576.8896114922 190077.5369581918)  \n",
       "20   POINT (540644.106952635 188295.6113788032)  \n",
       "21  POINT (540093.8806968946 189074.1681362605)  \n",
       "40  POINT (525136.1065181275 190654.6704870929)  \n",
       "41  POINT (525209.3537744763 190788.9183128849)  "
      ]
     },
     "execution_count": 5,
     "metadata": {},
     "output_type": "execute_result"
    }
   ],
   "source": [
    "pois = pois[pois['poi_kwds'].map(lambda x: bool(kwd_filter & set(x)) if len(kwd_filter) > 0 else True)]\n",
    "print(\"POIs filtered: %s\" % (len(pois.index)))\n",
    "pois.head()"
   ]
  },
  {
   "cell_type": "markdown",
   "metadata": {},
   "source": [
    "## Prepare coordinates for clustering"
   ]
  },
  {
   "cell_type": "code",
   "execution_count": 6,
   "metadata": {},
   "outputs": [
    {
     "name": "stdout",
     "output_type": "stream",
     "text": [
      "[[540576.88961149 190077.53695819]\n",
      " [540644.10695263 188295.6113788 ]\n",
      " [540093.88069689 189074.16813626]\n",
      " ...\n",
      " [535249.50894241 178658.80609098]\n",
      " [529878.71872102 181102.24560607]\n",
      " [530185.45061735 181210.6322924 ]]\n",
      "\n",
      "Array size 16535\n"
     ]
    }
   ],
   "source": [
    "pois[\"lon\"] = pois['geometry'].map(lambda p: p.x)\n",
    "pois[\"lat\"] = pois['geometry'].map(lambda p: p.y)\n",
    "coords = pois[['lon', 'lat']].values\n",
    "pois = pois.drop(columns=['lon', 'lat'])\n",
    "print(coords)\n",
    "print('\\nArray size %s' % len(coords))"
   ]
  },
  {
   "cell_type": "markdown",
   "metadata": {},
   "source": [
    "## Examine distances of each POI to its nearest neighbor"
   ]
  },
  {
   "cell_type": "markdown",
   "metadata": {},
   "source": [
    "### Get a list of unique coordinates"
   ]
  },
  {
   "cell_type": "code",
   "execution_count": 7,
   "metadata": {},
   "outputs": [
    {
     "name": "stdout",
     "output_type": "stream",
     "text": [
      "Total coords: 16535\n",
      "Unique coords: 16532\n"
     ]
    }
   ],
   "source": [
    "coords_unique = [' '.join(str(e) for e in x) for x in coords]\n",
    "coords_unique = set(coords_unique)\n",
    "coords_unique = [list(map(float, x.split())) for x in coords_unique]\n",
    "print('Total coords: %s' % len(coords))\n",
    "print('Unique coords: %s' % len(coords_unique))"
   ]
  },
  {
   "cell_type": "markdown",
   "metadata": {},
   "source": [
    "### Find the nearest neighbor of each point"
   ]
  },
  {
   "cell_type": "code",
   "execution_count": 8,
   "metadata": {},
   "outputs": [],
   "source": [
    "k = 1"
   ]
  },
  {
   "cell_type": "code",
   "execution_count": 9,
   "metadata": {},
   "outputs": [
    {
     "name": "stdout",
     "output_type": "stream",
     "text": [
      "Done in 9.842s.\n"
     ]
    }
   ],
   "source": [
    "t0 = time()\n",
    "weights_knn = pysal.weights.KNN(coords_unique, k=k)\n",
    "print(\"Done in %0.3fs.\" % (time() - t0))"
   ]
  },
  {
   "cell_type": "markdown",
   "metadata": {},
   "source": [
    "### Examine the nearest neighbor distances"
   ]
  },
  {
   "cell_type": "code",
   "execution_count": 10,
   "metadata": {},
   "outputs": [
    {
     "name": "stdout",
     "output_type": "stream",
     "text": [
      "count    16532.000000\n",
      "mean        55.560728\n",
      "std        123.369814\n",
      "min          0.129255\n",
      "25%          9.741204\n",
      "50%         19.745812\n",
      "75%         41.362957\n",
      "max       2268.288813\n",
      "dtype: float64\n",
      "Done in 1.974s.\n"
     ]
    }
   ],
   "source": [
    "t0 = time()\n",
    "d = list()\n",
    "for i in range(len(coords_unique)):\n",
    "    p = Point(coords_unique[i])\n",
    "    nn = Point(coords_unique[weights_knn.neighbors[i][0]])\n",
    "    d.append(p.distance(nn))\n",
    "d = pd.Series(d)\n",
    "print(d.describe())\n",
    "print(\"Done in %0.3fs.\" % (time() - t0))"
   ]
  },
  {
   "cell_type": "markdown",
   "metadata": {},
   "source": [
    "## Examine number of neighbors of each POI within a given distance"
   ]
  },
  {
   "cell_type": "markdown",
   "metadata": {},
   "source": [
    "### Select a distance threshold"
   ]
  },
  {
   "cell_type": "code",
   "execution_count": 11,
   "metadata": {},
   "outputs": [],
   "source": [
    "dist_threshold = 200"
   ]
  },
  {
   "cell_type": "markdown",
   "metadata": {},
   "source": [
    "### Compute the neighbors of each point"
   ]
  },
  {
   "cell_type": "code",
   "execution_count": 12,
   "metadata": {
    "scrolled": true
   },
   "outputs": [
    {
     "name": "stderr",
     "output_type": "stream",
     "text": [
      "/home/user/miniconda3/lib/python3.6/site-packages/pysal/weights/weights.py:189: UserWarning: There are 1016 disconnected observations\n",
      "  warnings.warn(\"There are %d disconnected observations\" % ni)\n",
      "/home/user/miniconda3/lib/python3.6/site-packages/pysal/weights/weights.py:190: UserWarning: Island ids: 14, 28, 72, 92, 131, 134, 138, 150, 182, 183, 192, 194, 200, 206, 239, 240, 241, 246, 334, 349, 358, 381, 384, 385, 393, 400, 422, 428, 438, 484, 492, 502, 533, 540, 554, 557, 570, 585, 606, 617, 623, 654, 668, 687, 713, 791, 802, 845, 849, 856, 880, 903, 914, 918, 925, 969, 972, 985, 988, 990, 1032, 1049, 1054, 1098, 1107, 1129, 1161, 1162, 1175, 1177, 1193, 1227, 1231, 1233, 1272, 1275, 1329, 1355, 1386, 1387, 1391, 1404, 1418, 1420, 1500, 1515, 1520, 1527, 1531, 1534, 1555, 1564, 1593, 1608, 1611, 1620, 1633, 1656, 1665, 1734, 1746, 1756, 1776, 1806, 1808, 1816, 1838, 1840, 1843, 1858, 1869, 1870, 1876, 1902, 1942, 1954, 1963, 1964, 1993, 2004, 2022, 2037, 2038, 2045, 2065, 2072, 2095, 2109, 2124, 2127, 2144, 2152, 2156, 2162, 2200, 2204, 2209, 2211, 2220, 2231, 2233, 2253, 2291, 2301, 2311, 2340, 2348, 2350, 2353, 2361, 2364, 2377, 2389, 2395, 2396, 2406, 2422, 2427, 2430, 2440, 2447, 2452, 2477, 2479, 2493, 2515, 2534, 2540, 2546, 2561, 2606, 2618, 2636, 2644, 2650, 2656, 2674, 2678, 2694, 2707, 2713, 2739, 2745, 2752, 2803, 2824, 2840, 2878, 2894, 2895, 2897, 2910, 2919, 2930, 2958, 2985, 2994, 3015, 3021, 3023, 3027, 3039, 3078, 3094, 3095, 3108, 3138, 3144, 3145, 3149, 3165, 3202, 3204, 3208, 3229, 3238, 3240, 3253, 3270, 3279, 3288, 3299, 3301, 3322, 3347, 3353, 3390, 3436, 3437, 3518, 3552, 3570, 3618, 3634, 3650, 3679, 3685, 3704, 3707, 3748, 3749, 3755, 3765, 3767, 3812, 3834, 3846, 3849, 3859, 3865, 3906, 3920, 3934, 3938, 3944, 3966, 3976, 4037, 4040, 4044, 4068, 4080, 4090, 4106, 4126, 4277, 4300, 4301, 4302, 4332, 4334, 4401, 4439, 4446, 4453, 4456, 4509, 4511, 4556, 4562, 4576, 4582, 4584, 4599, 4602, 4608, 4611, 4628, 4642, 4662, 4666, 4725, 4731, 4750, 4774, 4792, 4804, 4810, 4823, 4842, 4851, 4858, 4861, 4866, 4885, 4886, 4887, 4890, 4906, 4935, 4945, 4959, 4975, 4979, 4981, 4984, 4991, 4997, 4998, 5003, 5026, 5047, 5071, 5134, 5165, 5202, 5225, 5236, 5263, 5267, 5276, 5304, 5311, 5319, 5332, 5338, 5360, 5388, 5393, 5405, 5407, 5458, 5468, 5502, 5504, 5530, 5550, 5553, 5566, 5575, 5580, 5600, 5611, 5632, 5693, 5719, 5728, 5731, 5749, 5751, 5758, 5786, 5797, 5822, 5827, 5861, 5869, 5872, 5873, 5874, 5878, 5885, 5890, 5910, 5913, 5949, 6042, 6045, 6059, 6083, 6087, 6106, 6203, 6206, 6215, 6217, 6229, 6241, 6244, 6255, 6274, 6277, 6281, 6292, 6293, 6306, 6307, 6363, 6371, 6380, 6421, 6433, 6467, 6486, 6498, 6539, 6542, 6567, 6636, 6647, 6674, 6676, 6678, 6691, 6697, 6730, 6731, 6744, 6753, 6784, 6793, 6801, 6838, 6847, 6857, 6870, 6917, 6940, 6944, 6956, 6958, 6972, 6977, 6982, 6998, 7031, 7033, 7049, 7083, 7102, 7106, 7112, 7127, 7129, 7144, 7150, 7166, 7181, 7189, 7205, 7220, 7222, 7271, 7280, 7287, 7297, 7304, 7341, 7391, 7430, 7439, 7450, 7466, 7474, 7487, 7493, 7521, 7532, 7543, 7556, 7577, 7583, 7610, 7616, 7627, 7647, 7649, 7688, 7690, 7694, 7700, 7705, 7735, 7736, 7745, 7787, 7794, 7823, 7828, 7845, 7861, 7872, 7873, 7901, 7903, 7909, 7942, 7981, 7983, 7986, 8001, 8012, 8017, 8050, 8083, 8093, 8103, 8114, 8128, 8153, 8167, 8173, 8196, 8202, 8238, 8261, 8263, 8269, 8273, 8276, 8308, 8317, 8320, 8420, 8429, 8460, 8464, 8496, 8502, 8506, 8526, 8533, 8538, 8562, 8571, 8583, 8606, 8616, 8617, 8623, 8627, 8648, 8653, 8658, 8672, 8684, 8686, 8694, 8711, 8738, 8762, 8790, 8847, 8856, 8865, 8869, 8883, 8893, 8938, 8955, 8959, 8967, 8972, 9009, 9014, 9021, 9030, 9043, 9072, 9110, 9111, 9139, 9148, 9174, 9229, 9238, 9249, 9266, 9270, 9278, 9287, 9289, 9299, 9303, 9325, 9328, 9351, 9356, 9374, 9394, 9438, 9442, 9454, 9483, 9486, 9488, 9489, 9564, 9599, 9631, 9635, 9643, 9649, 9668, 9679, 9682, 9695, 9719, 9720, 9742, 9768, 9781, 9786, 9791, 9802, 9806, 9810, 9819, 9828, 9855, 9896, 9908, 9951, 9967, 9975, 9985, 9998, 10057, 10060, 10069, 10082, 10099, 10105, 10135, 10146, 10163, 10175, 10182, 10188, 10200, 10202, 10210, 10220, 10267, 10277, 10278, 10285, 10298, 10299, 10314, 10337, 10360, 10374, 10396, 10438, 10448, 10502, 10508, 10512, 10513, 10535, 10561, 10569, 10600, 10613, 10619, 10659, 10677, 10703, 10717, 10725, 10754, 10777, 10813, 10824, 10859, 10865, 10866, 10873, 10885, 10895, 10935, 10954, 10969, 10974, 10975, 10976, 10989, 10991, 10997, 11003, 11048, 11083, 11084, 11097, 11100, 11102, 11118, 11140, 11175, 11178, 11209, 11230, 11254, 11260, 11300, 11321, 11327, 11362, 11365, 11379, 11382, 11396, 11443, 11447, 11470, 11483, 11494, 11498, 11506, 11519, 11539, 11589, 11610, 11613, 11677, 11689, 11704, 11753, 11765, 11770, 11777, 11779, 11795, 11807, 11852, 11874, 11876, 11924, 11940, 11945, 11969, 11980, 12023, 12066, 12072, 12073, 12081, 12094, 12118, 12119, 12122, 12135, 12142, 12184, 12197, 12220, 12266, 12278, 12285, 12304, 12313, 12320, 12339, 12343, 12355, 12381, 12385, 12418, 12456, 12491, 12522, 12525, 12542, 12554, 12570, 12582, 12583, 12601, 12610, 12621, 12633, 12675, 12685, 12692, 12708, 12782, 12808, 12851, 12893, 12902, 12910, 12919, 12956, 12960, 12983, 13016, 13036, 13037, 13043, 13049, 13081, 13114, 13118, 13183, 13244, 13259, 13267, 13271, 13279, 13285, 13297, 13301, 13312, 13322, 13358, 13364, 13397, 13409, 13422, 13442, 13443, 13450, 13468, 13510, 13534, 13537, 13566, 13575, 13585, 13592, 13615, 13632, 13638, 13668, 13674, 13704, 13732, 13750, 13762, 13763, 13771, 13783, 13795, 13821, 13823, 13849, 13850, 13857, 13881, 13887, 13894, 13898, 13910, 13919, 13920, 13959, 13985, 13988, 13996, 14008, 14014, 14026, 14078, 14129, 14137, 14172, 14204, 14213, 14257, 14264, 14286, 14292, 14300, 14309, 14327, 14332, 14372, 14390, 14392, 14393, 14400, 14407, 14413, 14437, 14453, 14456, 14460, 14483, 14499, 14523, 14530, 14548, 14574, 14583, 14596, 14609, 14664, 14673, 14684, 14690, 14696, 14755, 14785, 14791, 14793, 14800, 14833, 14834, 14838, 14845, 14855, 14879, 14886, 14896, 14898, 14905, 14914, 14936, 15008, 15011, 15037, 15050, 15079, 15099, 15101, 15105, 15116, 15132, 15149, 15174, 15183, 15187, 15217, 15218, 15221, 15257, 15281, 15329, 15347, 15359, 15360, 15384, 15397, 15410, 15438, 15447, 15452, 15499, 15515, 15529, 15541, 15569, 15571, 15606, 15608, 15646, 15674, 15685, 15689, 15708, 15747, 15767, 15769, 15773, 15778, 15779, 15782, 15786, 15797, 15805, 15824, 15838, 15848, 15850, 15874, 15888, 15907, 15921, 15927, 15945, 15977, 15978, 15983, 15990, 15995, 16000, 16012, 16013, 16060, 16075, 16080, 16140, 16203, 16231, 16244, 16249, 16261, 16265, 16270, 16304, 16342, 16344, 16352, 16354, 16357, 16363, 16369, 16394, 16410, 16411, 16437, 16471, 16489, 16490, 16500\n",
      "  warnings.warn(\"Island ids: %s\" % ', '.join(str(island) for island in self.islands))\n"
     ]
    },
    {
     "name": "stdout",
     "output_type": "stream",
     "text": [
      "Done in 76.947s.\n"
     ]
    }
   ],
   "source": [
    "t0 = time()\n",
    "weights_dist = pysal.weights.DistanceBand(coords_unique, threshold=dist_threshold)\n",
    "print(\"Done in %0.3fs.\" % (time() - t0))"
   ]
  },
  {
   "cell_type": "markdown",
   "metadata": {},
   "source": [
    "### Examine the number of neighbors"
   ]
  },
  {
   "cell_type": "code",
   "execution_count": 13,
   "metadata": {},
   "outputs": [
    {
     "name": "stdout",
     "output_type": "stream",
     "text": [
      "count    16532.000000\n",
      "mean        27.348052\n",
      "std         35.086932\n",
      "min          0.000000\n",
      "25%          6.000000\n",
      "50%         16.000000\n",
      "75%         35.000000\n",
      "max        265.000000\n",
      "dtype: float64\n"
     ]
    }
   ],
   "source": [
    "n = list()\n",
    "for i in range(len(coords_unique)):\n",
    "    n.append(len(weights_dist[i]))\n",
    "n = pd.Series(n)\n",
    "print(n.describe())"
   ]
  },
  {
   "cell_type": "markdown",
   "metadata": {},
   "source": [
    "## Set DBSCAN parameters eps and minPts"
   ]
  },
  {
   "cell_type": "code",
   "execution_count": 14,
   "metadata": {},
   "outputs": [],
   "source": [
    "eps = 200\n",
    "minPts = 35"
   ]
  },
  {
   "cell_type": "markdown",
   "metadata": {},
   "source": [
    "## Run DBSCAN"
   ]
  },
  {
   "cell_type": "code",
   "execution_count": 15,
   "metadata": {},
   "outputs": [
    {
     "name": "stdout",
     "output_type": "stream",
     "text": [
      "Done in 0.446s.\n",
      "Number of clusters: 39\n"
     ]
    }
   ],
   "source": [
    "t0 = time()\n",
    "db = DBSCAN(eps=eps, min_samples=minPts).fit(coords)\n",
    "print(\"Done in %0.3fs.\" % (time() - t0))\n",
    "labels = db.labels_\n",
    "num_clusters = len(set(labels))\n",
    "print('Number of clusters: %d' % num_clusters)"
   ]
  },
  {
   "cell_type": "markdown",
   "metadata": {},
   "source": [
    "## Add cluster labels to initial POIs"
   ]
  },
  {
   "cell_type": "code",
   "execution_count": 16,
   "metadata": {
    "scrolled": true
   },
   "outputs": [
    {
     "data": {
      "text/html": [
       "<div>\n",
       "<style scoped>\n",
       "    .dataframe tbody tr th:only-of-type {\n",
       "        vertical-align: middle;\n",
       "    }\n",
       "\n",
       "    .dataframe tbody tr th {\n",
       "        vertical-align: top;\n",
       "    }\n",
       "\n",
       "    .dataframe thead th {\n",
       "        text-align: right;\n",
       "    }\n",
       "</style>\n",
       "<table border=\"1\" class=\"dataframe\">\n",
       "  <thead>\n",
       "    <tr style=\"text-align: right;\">\n",
       "      <th></th>\n",
       "      <th>poi_id</th>\n",
       "      <th>poi_name</th>\n",
       "      <th>poi_kwds</th>\n",
       "      <th>geometry</th>\n",
       "      <th>label</th>\n",
       "    </tr>\n",
       "  </thead>\n",
       "  <tbody>\n",
       "    <tr>\n",
       "      <th>64</th>\n",
       "      <td>N15262028</td>\n",
       "      <td>The Monkey Puzzle</td>\n",
       "      <td>[food, pub]</td>\n",
       "      <td>POINT (527091.723903697 181306.6747058815)</td>\n",
       "      <td>4</td>\n",
       "    </tr>\n",
       "    <tr>\n",
       "      <th>102</th>\n",
       "      <td>N108042</td>\n",
       "      <td>The Jeremy Bentham</td>\n",
       "      <td>[food, pub]</td>\n",
       "      <td>POINT (529446.6497902106 182160.7722375459)</td>\n",
       "      <td>1</td>\n",
       "    </tr>\n",
       "    <tr>\n",
       "      <th>188</th>\n",
       "      <td>N21392280</td>\n",
       "      <td>Hoop and Grapes</td>\n",
       "      <td>[food, pub]</td>\n",
       "      <td>POINT (531592.5927679141 181319.9297292959)</td>\n",
       "      <td>0</td>\n",
       "    </tr>\n",
       "    <tr>\n",
       "      <th>194</th>\n",
       "      <td>N21686579</td>\n",
       "      <td>White Swan</td>\n",
       "      <td>[food, pub]</td>\n",
       "      <td>POINT (531634.0680557776 181311.9570608565)</td>\n",
       "      <td>0</td>\n",
       "    </tr>\n",
       "    <tr>\n",
       "      <th>196</th>\n",
       "      <td>N21693791</td>\n",
       "      <td>The Saint</td>\n",
       "      <td>[food, pub]</td>\n",
       "      <td>POINT (531954.3395298481 181283.6196751572)</td>\n",
       "      <td>0</td>\n",
       "    </tr>\n",
       "    <tr>\n",
       "      <th>232</th>\n",
       "      <td>N21593232</td>\n",
       "      <td>The Knights Templar</td>\n",
       "      <td>[food, pub]</td>\n",
       "      <td>POINT (531120.2842691645 181290.7398162421)</td>\n",
       "      <td>0</td>\n",
       "    </tr>\n",
       "    <tr>\n",
       "      <th>233</th>\n",
       "      <td>N21593236</td>\n",
       "      <td>Ship Tavern</td>\n",
       "      <td>[food, pub]</td>\n",
       "      <td>POINT (530597.2122357603 181489.063327418)</td>\n",
       "      <td>1</td>\n",
       "    </tr>\n",
       "    <tr>\n",
       "      <th>234</th>\n",
       "      <td>N21593237</td>\n",
       "      <td>Bar Polski</td>\n",
       "      <td>[food, bar]</td>\n",
       "      <td>POINT (530614.0093231115 181501.9135728221)</td>\n",
       "      <td>1</td>\n",
       "    </tr>\n",
       "    <tr>\n",
       "      <th>235</th>\n",
       "      <td>N21593238</td>\n",
       "      <td>All Bar One</td>\n",
       "      <td>[food, pub]</td>\n",
       "      <td>POINT (530591.6105849405 181389.0705907869)</td>\n",
       "      <td>1</td>\n",
       "    </tr>\n",
       "    <tr>\n",
       "      <th>255</th>\n",
       "      <td>N25471087</td>\n",
       "      <td>Marquess of Anglesey</td>\n",
       "      <td>[food, pub]</td>\n",
       "      <td>POINT (530475.1425937477 180987.6412087218)</td>\n",
       "      <td>1</td>\n",
       "    </tr>\n",
       "    <tr>\n",
       "      <th>256</th>\n",
       "      <td>N25473538</td>\n",
       "      <td>The Liberty Bounds</td>\n",
       "      <td>[food, pub]</td>\n",
       "      <td>POINT (533442.725410842 180722.5572172043)</td>\n",
       "      <td>0</td>\n",
       "    </tr>\n",
       "    <tr>\n",
       "      <th>258</th>\n",
       "      <td>N25475187</td>\n",
       "      <td>The Cheshire Cheese</td>\n",
       "      <td>[food, pub]</td>\n",
       "      <td>POINT (533493.860226638 180916.8697704348)</td>\n",
       "      <td>0</td>\n",
       "    </tr>\n",
       "    <tr>\n",
       "      <th>260</th>\n",
       "      <td>N25475913</td>\n",
       "      <td>St George</td>\n",
       "      <td>[food, pub]</td>\n",
       "      <td>POINT (530398.0475496764 181849.481471276)</td>\n",
       "      <td>1</td>\n",
       "    </tr>\n",
       "    <tr>\n",
       "      <th>264</th>\n",
       "      <td>N25501630</td>\n",
       "      <td>McGlynn's</td>\n",
       "      <td>[food, pub]</td>\n",
       "      <td>POINT (530280.4165386388 182728.7774514696)</td>\n",
       "      <td>22</td>\n",
       "    </tr>\n",
       "    <tr>\n",
       "      <th>265</th>\n",
       "      <td>N25503596</td>\n",
       "      <td>Sir John Oldcastle</td>\n",
       "      <td>[food, pub]</td>\n",
       "      <td>POINT (531514.3929396394 181796.6445110757)</td>\n",
       "      <td>15</td>\n",
       "    </tr>\n",
       "    <tr>\n",
       "      <th>298</th>\n",
       "      <td>N25597580</td>\n",
       "      <td>The Islington</td>\n",
       "      <td>[food, pub]</td>\n",
       "      <td>POINT (531276.4447086938 183420.2538591849)</td>\n",
       "      <td>2</td>\n",
       "    </tr>\n",
       "    <tr>\n",
       "      <th>299</th>\n",
       "      <td>N25597628</td>\n",
       "      <td>The Angelic</td>\n",
       "      <td>[food, pub]</td>\n",
       "      <td>POINT (531373.3803767413 183462.4758292342)</td>\n",
       "      <td>2</td>\n",
       "    </tr>\n",
       "    <tr>\n",
       "      <th>321</th>\n",
       "      <td>N25746185</td>\n",
       "      <td>The Cheshire Cheese</td>\n",
       "      <td>[food, pub]</td>\n",
       "      <td>POINT (531025.8116682676 180959.5232846246)</td>\n",
       "      <td>0</td>\n",
       "    </tr>\n",
       "    <tr>\n",
       "      <th>329</th>\n",
       "      <td>N25831194</td>\n",
       "      <td>The Bucks Head</td>\n",
       "      <td>[food, pub]</td>\n",
       "      <td>POINT (528843.7584187047 184003.1372164982)</td>\n",
       "      <td>3</td>\n",
       "    </tr>\n",
       "    <tr>\n",
       "      <th>330</th>\n",
       "      <td>N25831302</td>\n",
       "      <td>Lockside Lounge</td>\n",
       "      <td>[food, bar]</td>\n",
       "      <td>POINT (528628.2667415495 184093.0142723261)</td>\n",
       "      <td>3</td>\n",
       "    </tr>\n",
       "  </tbody>\n",
       "</table>\n",
       "</div>"
      ],
      "text/plain": [
       "        poi_id              poi_name     poi_kwds  \\\n",
       "64   N15262028     The Monkey Puzzle  [food, pub]   \n",
       "102    N108042    The Jeremy Bentham  [food, pub]   \n",
       "188  N21392280       Hoop and Grapes  [food, pub]   \n",
       "194  N21686579            White Swan  [food, pub]   \n",
       "196  N21693791             The Saint  [food, pub]   \n",
       "232  N21593232   The Knights Templar  [food, pub]   \n",
       "233  N21593236           Ship Tavern  [food, pub]   \n",
       "234  N21593237            Bar Polski  [food, bar]   \n",
       "235  N21593238           All Bar One  [food, pub]   \n",
       "255  N25471087  Marquess of Anglesey  [food, pub]   \n",
       "256  N25473538    The Liberty Bounds  [food, pub]   \n",
       "258  N25475187   The Cheshire Cheese  [food, pub]   \n",
       "260  N25475913             St George  [food, pub]   \n",
       "264  N25501630             McGlynn's  [food, pub]   \n",
       "265  N25503596    Sir John Oldcastle  [food, pub]   \n",
       "298  N25597580         The Islington  [food, pub]   \n",
       "299  N25597628           The Angelic  [food, pub]   \n",
       "321  N25746185   The Cheshire Cheese  [food, pub]   \n",
       "329  N25831194        The Bucks Head  [food, pub]   \n",
       "330  N25831302       Lockside Lounge  [food, bar]   \n",
       "\n",
       "                                        geometry  label  \n",
       "64    POINT (527091.723903697 181306.6747058815)      4  \n",
       "102  POINT (529446.6497902106 182160.7722375459)      1  \n",
       "188  POINT (531592.5927679141 181319.9297292959)      0  \n",
       "194  POINT (531634.0680557776 181311.9570608565)      0  \n",
       "196  POINT (531954.3395298481 181283.6196751572)      0  \n",
       "232  POINT (531120.2842691645 181290.7398162421)      0  \n",
       "233   POINT (530597.2122357603 181489.063327418)      1  \n",
       "234  POINT (530614.0093231115 181501.9135728221)      1  \n",
       "235  POINT (530591.6105849405 181389.0705907869)      1  \n",
       "255  POINT (530475.1425937477 180987.6412087218)      1  \n",
       "256   POINT (533442.725410842 180722.5572172043)      0  \n",
       "258   POINT (533493.860226638 180916.8697704348)      0  \n",
       "260   POINT (530398.0475496764 181849.481471276)      1  \n",
       "264  POINT (530280.4165386388 182728.7774514696)     22  \n",
       "265  POINT (531514.3929396394 181796.6445110757)     15  \n",
       "298  POINT (531276.4447086938 183420.2538591849)      2  \n",
       "299  POINT (531373.3803767413 183462.4758292342)      2  \n",
       "321  POINT (531025.8116682676 180959.5232846246)      0  \n",
       "329  POINT (528843.7584187047 184003.1372164982)      3  \n",
       "330  POINT (528628.2667415495 184093.0142723261)      3  "
      ]
     },
     "execution_count": 16,
     "metadata": {},
     "output_type": "execute_result"
    }
   ],
   "source": [
    "pois['label'] = labels\n",
    "clustered_pois = pois[pois.label > -1]\n",
    "clustered_pois.head(20)"
   ]
  },
  {
   "cell_type": "code",
   "execution_count": 17,
   "metadata": {},
   "outputs": [
    {
     "data": {
      "text/plain": [
       "<matplotlib.axes._subplots.AxesSubplot at 0x7f1141715a58>"
      ]
     },
     "execution_count": 17,
     "metadata": {},
     "output_type": "execute_result"
    },
    {
     "data": {
      "image/png": "[encoded data removed]",
      "text/plain": [
       "<Figure size 432x288 with 1 Axes>"
      ]
     },
     "metadata": {
      "needs_background": "light"
     },
     "output_type": "display_data"
    }
   ],
   "source": [
    "clustered_pois.plot()"
   ]
  },
  {
   "cell_type": "markdown",
   "metadata": {},
   "source": [
    "## Save clusters"
   ]
  },
  {
   "cell_type": "code",
   "execution_count": 18,
   "metadata": {},
   "outputs": [],
   "source": [
    "clustered_pois.to_csv(output_dir + 'pois_dbscan_output.csv')\n",
    "clustered_pois.to_pickle(output_dir + 'pois_dbscan_output_gdf.pkl')"
   ]
  },
  {
   "cell_type": "markdown",
   "metadata": {},
   "source": [
    "## Compute and visualize cluster borders"
   ]
  },
  {
   "cell_type": "code",
   "execution_count": 19,
   "metadata": {},
   "outputs": [],
   "source": [
    "cluster_borders = clustered_pois.groupby(['label'], sort=False)['geometry'].agg([list, np.size])\n",
    "geom = [shp.geometry.MultiPoint(x).convex_hull for x in cluster_borders['list']]\n",
    "cluster_borders = GeoDataFrame(cluster_borders, crs=pois.crs, geometry=geom).drop(columns=['list'])"
   ]
  },
  {
   "cell_type": "code",
   "execution_count": 20,
   "metadata": {},
   "outputs": [
    {
     "data": {
      "text/html": [
       "<div style=\"width:100%;\"><div style=\"position:relative;width:100%;height:0;padding-bottom:60%;\"><iframe src=\"data:text/html;charset=utf-8;base64,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\" style=\"position:absolute;width:100%;height:100%;left:0;top:0;border:none !important;\" allowfullscreen webkitallowfullscreen mozallowfullscreen></iframe></div></div>"
      ],
      "text/plain": [
       "<folium.folium.Map at 0x7f11416389e8>"
      ]
     },
     "execution_count": 20,
     "metadata": {},
     "output_type": "execute_result"
    }
   ],
   "source": [
    "map_center = [51.507222, -0.1275] # London\n",
    "m = folium.Map(location=map_center, zoom_start=12, tiles='OpenStreetMap', width=800, height=600)\n",
    "folium.GeoJson(cluster_borders).add_to(m)\n",
    "m"
   ]
  }
 ],
 "metadata": {
  "kernelspec": {
   "display_name": "Python [conda env:miniconda3]",
   "language": "python",
   "name": "conda-env-miniconda3-py"
  },
  "language_info": {
   "codemirror_mode": {
    "name": "ipython",
    "version": 3
   },
   "file_extension": ".py",
   "mimetype": "text/x-python",
   "name": "python",
   "nbconvert_exporter": "python",
   "pygments_lexer": "ipython3",
   "version": "3.6.6"
  }
 },
 "nbformat": 4,
 "nbformat_minor": 2
}
