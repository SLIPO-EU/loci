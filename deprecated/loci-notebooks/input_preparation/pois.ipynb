{
 "cells": [
  {
   "cell_type": "code",
   "execution_count": 1,
   "metadata": {},
   "outputs": [],
   "source": [
    "import pandas as pd\n",
    "import geopandas as gpd\n",
    "from shapely.geometry import Point"
   ]
  },
  {
   "cell_type": "code",
   "execution_count": 2,
   "metadata": {},
   "outputs": [],
   "source": [
    "data_dir = '../data/input/'\n",
    "source_crs = {'init': 'epsg:4326'}\n",
    "target_crs = {'init': 'epsg:27700'}"
   ]
  },
  {
   "cell_type": "markdown",
   "metadata": {},
   "source": [
    "# Prepare a GeoDataFrame from input POIs"
   ]
  },
  {
   "cell_type": "markdown",
   "metadata": {},
   "source": [
    "## Read input file"
   ]
  },
  {
   "cell_type": "code",
   "execution_count": 3,
   "metadata": {
    "scrolled": false
   },
   "outputs": [
    {
     "data": {
      "text/html": [
       "<div>\n",
       "<style scoped>\n",
       "    .dataframe tbody tr th:only-of-type {\n",
       "        vertical-align: middle;\n",
       "    }\n",
       "\n",
       "    .dataframe tbody tr th {\n",
       "        vertical-align: top;\n",
       "    }\n",
       "\n",
       "    .dataframe thead th {\n",
       "        text-align: right;\n",
       "    }\n",
       "</style>\n",
       "<table border=\"1\" class=\"dataframe\">\n",
       "  <thead>\n",
       "    <tr style=\"text-align: right;\">\n",
       "      <th></th>\n",
       "      <th>id</th>\n",
       "      <th>name</th>\n",
       "      <th>lon</th>\n",
       "      <th>lat</th>\n",
       "      <th>kwds</th>\n",
       "    </tr>\n",
       "  </thead>\n",
       "  <tbody>\n",
       "    <tr>\n",
       "      <th>0</th>\n",
       "      <td>N10287073</td>\n",
       "      <td>Wembley Central</td>\n",
       "      <td>-0.296485</td>\n",
       "      <td>51.552377</td>\n",
       "      <td>transport,station</td>\n",
       "    </tr>\n",
       "    <tr>\n",
       "      <th>1</th>\n",
       "      <td>N10370938</td>\n",
       "      <td>Hadley Wood</td>\n",
       "      <td>-0.176308</td>\n",
       "      <td>51.668605</td>\n",
       "      <td>transport,station</td>\n",
       "    </tr>\n",
       "    <tr>\n",
       "      <th>2</th>\n",
       "      <td>N10371887</td>\n",
       "      <td>Alexandra Palace</td>\n",
       "      <td>-0.120442</td>\n",
       "      <td>51.597890</td>\n",
       "      <td>transport,station</td>\n",
       "    </tr>\n",
       "    <tr>\n",
       "      <th>3</th>\n",
       "      <td>N10606316</td>\n",
       "      <td>St John Street / Goswell Road</td>\n",
       "      <td>-0.106121</td>\n",
       "      <td>51.531317</td>\n",
       "      <td>transport,busstop</td>\n",
       "    </tr>\n",
       "    <tr>\n",
       "      <th>4</th>\n",
       "      <td>N10713594</td>\n",
       "      <td>Carshalton Beeches</td>\n",
       "      <td>-0.169349</td>\n",
       "      <td>51.357211</td>\n",
       "      <td>transport,station</td>\n",
       "    </tr>\n",
       "  </tbody>\n",
       "</table>\n",
       "</div>"
      ],
      "text/plain": [
       "          id                           name       lon        lat  \\\n",
       "0  N10287073                Wembley Central -0.296485  51.552377   \n",
       "1  N10370938                    Hadley Wood -0.176308  51.668605   \n",
       "2  N10371887               Alexandra Palace -0.120442  51.597890   \n",
       "3  N10606316  St John Street / Goswell Road -0.106121  51.531317   \n",
       "4  N10713594             Carshalton Beeches -0.169349  51.357211   \n",
       "\n",
       "                kwds  \n",
       "0  transport,station  \n",
       "1  transport,station  \n",
       "2  transport,station  \n",
       "3  transport,busstop  \n",
       "4  transport,station  "
      ]
     },
     "execution_count": 3,
     "metadata": {},
     "output_type": "execute_result"
    }
   ],
   "source": [
    "pois = pd.read_csv(data_dir + 'london_pois.csv', delimiter=';')\n",
    "pois.head()"
   ]
  },
  {
   "cell_type": "markdown",
   "metadata": {},
   "source": [
    "## Split keywords"
   ]
  },
  {
   "cell_type": "code",
   "execution_count": 4,
   "metadata": {},
   "outputs": [
    {
     "data": {
      "text/html": [
       "<div>\n",
       "<style scoped>\n",
       "    .dataframe tbody tr th:only-of-type {\n",
       "        vertical-align: middle;\n",
       "    }\n",
       "\n",
       "    .dataframe tbody tr th {\n",
       "        vertical-align: top;\n",
       "    }\n",
       "\n",
       "    .dataframe thead th {\n",
       "        text-align: right;\n",
       "    }\n",
       "</style>\n",
       "<table border=\"1\" class=\"dataframe\">\n",
       "  <thead>\n",
       "    <tr style=\"text-align: right;\">\n",
       "      <th></th>\n",
       "      <th>id</th>\n",
       "      <th>name</th>\n",
       "      <th>lon</th>\n",
       "      <th>lat</th>\n",
       "      <th>kwds</th>\n",
       "    </tr>\n",
       "  </thead>\n",
       "  <tbody>\n",
       "    <tr>\n",
       "      <th>0</th>\n",
       "      <td>N10287073</td>\n",
       "      <td>Wembley Central</td>\n",
       "      <td>-0.296485</td>\n",
       "      <td>51.552377</td>\n",
       "      <td>[transport, station]</td>\n",
       "    </tr>\n",
       "    <tr>\n",
       "      <th>1</th>\n",
       "      <td>N10370938</td>\n",
       "      <td>Hadley Wood</td>\n",
       "      <td>-0.176308</td>\n",
       "      <td>51.668605</td>\n",
       "      <td>[transport, station]</td>\n",
       "    </tr>\n",
       "    <tr>\n",
       "      <th>2</th>\n",
       "      <td>N10371887</td>\n",
       "      <td>Alexandra Palace</td>\n",
       "      <td>-0.120442</td>\n",
       "      <td>51.597890</td>\n",
       "      <td>[transport, station]</td>\n",
       "    </tr>\n",
       "    <tr>\n",
       "      <th>3</th>\n",
       "      <td>N10606316</td>\n",
       "      <td>St John Street / Goswell Road</td>\n",
       "      <td>-0.106121</td>\n",
       "      <td>51.531317</td>\n",
       "      <td>[transport, busstop]</td>\n",
       "    </tr>\n",
       "    <tr>\n",
       "      <th>4</th>\n",
       "      <td>N10713594</td>\n",
       "      <td>Carshalton Beeches</td>\n",
       "      <td>-0.169349</td>\n",
       "      <td>51.357211</td>\n",
       "      <td>[transport, station]</td>\n",
       "    </tr>\n",
       "  </tbody>\n",
       "</table>\n",
       "</div>"
      ],
      "text/plain": [
       "          id                           name       lon        lat  \\\n",
       "0  N10287073                Wembley Central -0.296485  51.552377   \n",
       "1  N10370938                    Hadley Wood -0.176308  51.668605   \n",
       "2  N10371887               Alexandra Palace -0.120442  51.597890   \n",
       "3  N10606316  St John Street / Goswell Road -0.106121  51.531317   \n",
       "4  N10713594             Carshalton Beeches -0.169349  51.357211   \n",
       "\n",
       "                   kwds  \n",
       "0  [transport, station]  \n",
       "1  [transport, station]  \n",
       "2  [transport, station]  \n",
       "3  [transport, busstop]  \n",
       "4  [transport, station]  "
      ]
     },
     "execution_count": 4,
     "metadata": {},
     "output_type": "execute_result"
    }
   ],
   "source": [
    "pois['kwds'] = pois['kwds'].map(lambda s: s.split(','))\n",
    "pois.head()"
   ]
  },
  {
   "cell_type": "markdown",
   "metadata": {},
   "source": [
    "## Create geometry column"
   ]
  },
  {
   "cell_type": "code",
   "execution_count": 5,
   "metadata": {},
   "outputs": [],
   "source": [
    "geom = [Point(xy) for xy in zip(pois.lon, pois.lat)]"
   ]
  },
  {
   "cell_type": "markdown",
   "metadata": {},
   "source": [
    "## Create GeoDataFrame"
   ]
  },
  {
   "cell_type": "code",
   "execution_count": 6,
   "metadata": {},
   "outputs": [
    {
     "data": {
      "text/html": [
       "<div>\n",
       "<style scoped>\n",
       "    .dataframe tbody tr th:only-of-type {\n",
       "        vertical-align: middle;\n",
       "    }\n",
       "\n",
       "    .dataframe tbody tr th {\n",
       "        vertical-align: top;\n",
       "    }\n",
       "\n",
       "    .dataframe thead th {\n",
       "        text-align: right;\n",
       "    }\n",
       "</style>\n",
       "<table border=\"1\" class=\"dataframe\">\n",
       "  <thead>\n",
       "    <tr style=\"text-align: right;\">\n",
       "      <th></th>\n",
       "      <th>poi_id</th>\n",
       "      <th>poi_name</th>\n",
       "      <th>poi_kwds</th>\n",
       "      <th>geometry</th>\n",
       "    </tr>\n",
       "  </thead>\n",
       "  <tbody>\n",
       "    <tr>\n",
       "      <th>0</th>\n",
       "      <td>N10287073</td>\n",
       "      <td>Wembley Central</td>\n",
       "      <td>[transport, station]</td>\n",
       "      <td>POINT (518206.2277696228 185095.8309513291)</td>\n",
       "    </tr>\n",
       "    <tr>\n",
       "      <th>1</th>\n",
       "      <td>N10370938</td>\n",
       "      <td>Hadley Wood</td>\n",
       "      <td>[transport, station]</td>\n",
       "      <td>POINT (526215.3641507154 198221.9922744819)</td>\n",
       "    </tr>\n",
       "    <tr>\n",
       "      <th>2</th>\n",
       "      <td>N10371887</td>\n",
       "      <td>Alexandra Palace</td>\n",
       "      <td>[transport, station]</td>\n",
       "      <td>POINT (530280.7522176408 190456.0047157237)</td>\n",
       "    </tr>\n",
       "    <tr>\n",
       "      <th>3</th>\n",
       "      <td>N10606316</td>\n",
       "      <td>St John Street / Goswell Road</td>\n",
       "      <td>[transport, busstop]</td>\n",
       "      <td>POINT (531464.3598053379 183078.4395275304)</td>\n",
       "    </tr>\n",
       "    <tr>\n",
       "      <th>4</th>\n",
       "      <td>N10713594</td>\n",
       "      <td>Carshalton Beeches</td>\n",
       "      <td>[transport, station]</td>\n",
       "      <td>POINT (527562.7459662389 163605.7092331609)</td>\n",
       "    </tr>\n",
       "  </tbody>\n",
       "</table>\n",
       "</div>"
      ],
      "text/plain": [
       "      poi_id                       poi_name              poi_kwds  \\\n",
       "0  N10287073                Wembley Central  [transport, station]   \n",
       "1  N10370938                    Hadley Wood  [transport, station]   \n",
       "2  N10371887               Alexandra Palace  [transport, station]   \n",
       "3  N10606316  St John Street / Goswell Road  [transport, busstop]   \n",
       "4  N10713594             Carshalton Beeches  [transport, station]   \n",
       "\n",
       "                                      geometry  \n",
       "0  POINT (518206.2277696228 185095.8309513291)  \n",
       "1  POINT (526215.3641507154 198221.9922744819)  \n",
       "2  POINT (530280.7522176408 190456.0047157237)  \n",
       "3  POINT (531464.3598053379 183078.4395275304)  \n",
       "4  POINT (527562.7459662389 163605.7092331609)  "
      ]
     },
     "execution_count": 6,
     "metadata": {},
     "output_type": "execute_result"
    }
   ],
   "source": [
    "pois = gpd.GeoDataFrame(pois, crs=source_crs, geometry=geom).to_crs(target_crs).drop(columns=['lon', 'lat'])\n",
    "pois = pois.rename(columns={\"id\": \"poi_id\", \"name\": \"poi_name\", \"kwds\": \"poi_kwds\"})\n",
    "pois.head()"
   ]
  },
  {
   "cell_type": "code",
   "execution_count": 7,
   "metadata": {},
   "outputs": [
    {
     "name": "stdout",
     "output_type": "stream",
     "text": [
      "85187\n"
     ]
    }
   ],
   "source": [
    "print(len(pois.index))"
   ]
  },
  {
   "cell_type": "code",
   "execution_count": 9,
   "metadata": {},
   "outputs": [
    {
     "data": {
      "text/plain": [
       "<matplotlib.axes._subplots.AxesSubplot at 0x7fd4cf2f5cc0>"
      ]
     },
     "execution_count": 9,
     "metadata": {},
     "output_type": "execute_result"
    },
    {
     "data": {
      "image/png": "[encoded data removed]",
      "text/plain": [
       "<Figure size 432x288 with 1 Axes>"
      ]
     },
     "metadata": {
      "needs_background": "light"
     },
     "output_type": "display_data"
    }
   ],
   "source": [
    "pois.plot()"
   ]
  },
  {
   "cell_type": "markdown",
   "metadata": {},
   "source": [
    "## Save GeoDataFrame to disk"
   ]
  },
  {
   "cell_type": "code",
   "execution_count": 10,
   "metadata": {},
   "outputs": [],
   "source": [
    "pois.to_pickle(data_dir + 'london_pois_gdf.pkl')"
   ]
  }
 ],
 "metadata": {
  "kernelspec": {
   "display_name": "Python [conda env:miniconda3]",
   "language": "python",
   "name": "conda-env-miniconda3-py"
  },
  "language_info": {
   "codemirror_mode": {
    "name": "ipython",
    "version": 3
   },
   "file_extension": ".py",
   "mimetype": "text/x-python",
   "name": "python",
   "nbconvert_exporter": "python",
   "pygments_lexer": "ipython3",
   "version": "3.6.6"
  }
 },
 "nbformat": 4,
 "nbformat_minor": 2
}
